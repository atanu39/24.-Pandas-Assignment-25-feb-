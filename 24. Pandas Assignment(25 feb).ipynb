{
 "cells": [
  {
   "cell_type": "markdown",
   "id": "3431c015-136d-4253-afaf-5e026f906738",
   "metadata": {},
   "source": [
    "# Consider following code to answer further questions:"
   ]
  },
  {
   "cell_type": "code",
   "execution_count": 4,
   "id": "38aec35c-f418-4d6e-b37a-5f3bc32e8391",
   "metadata": {},
   "outputs": [],
   "source": [
    "\n",
    "import pandas as pd\n",
    "course_name = ['Data Science', 'Machine Learning', 'Big Data', 'Data Engineer']\n",
    "duration = [2,3,6,4]\n",
    "df = pd.DataFrame(data = {'course_name' : course_name, 'duration' : duration})"
   ]
  },
  {
   "cell_type": "code",
   "execution_count": 2,
   "id": "81119dba-f1ff-4e21-b5ea-63f480931b44",
   "metadata": {},
   "outputs": [
    {
     "data": {
      "text/html": [
       "<div>\n",
       "<style scoped>\n",
       "    .dataframe tbody tr th:only-of-type {\n",
       "        vertical-align: middle;\n",
       "    }\n",
       "\n",
       "    .dataframe tbody tr th {\n",
       "        vertical-align: top;\n",
       "    }\n",
       "\n",
       "    .dataframe thead th {\n",
       "        text-align: right;\n",
       "    }\n",
       "</style>\n",
       "<table border=\"1\" class=\"dataframe\">\n",
       "  <thead>\n",
       "    <tr style=\"text-align: right;\">\n",
       "      <th></th>\n",
       "      <th>course_name</th>\n",
       "      <th>duration</th>\n",
       "    </tr>\n",
       "  </thead>\n",
       "  <tbody>\n",
       "    <tr>\n",
       "      <th>0</th>\n",
       "      <td>Data Science</td>\n",
       "      <td>2</td>\n",
       "    </tr>\n",
       "    <tr>\n",
       "      <th>1</th>\n",
       "      <td>Machine Learning</td>\n",
       "      <td>3</td>\n",
       "    </tr>\n",
       "    <tr>\n",
       "      <th>2</th>\n",
       "      <td>Big Data</td>\n",
       "      <td>6</td>\n",
       "    </tr>\n",
       "    <tr>\n",
       "      <th>3</th>\n",
       "      <td>Data Engineer</td>\n",
       "      <td>4</td>\n",
       "    </tr>\n",
       "  </tbody>\n",
       "</table>\n",
       "</div>"
      ],
      "text/plain": [
       "        course_name  duration\n",
       "0      Data Science         2\n",
       "1  Machine Learning         3\n",
       "2          Big Data         6\n",
       "3     Data Engineer         4"
      ]
     },
     "execution_count": 2,
     "metadata": {},
     "output_type": "execute_result"
    }
   ],
   "source": [
    "df"
   ]
  },
  {
   "cell_type": "markdown",
   "id": "a8e32699-dfc5-493c-8ea8-8d9e020639bd",
   "metadata": {},
   "source": [
    "# Q1. Write a code to print the data present in the second row of the dataframe, df."
   ]
  },
  {
   "cell_type": "markdown",
   "id": "4e297548-1ebb-492d-a049-eeee5df27714",
   "metadata": {},
   "source": [
    "# Ans :"
   ]
  },
  {
   "cell_type": "code",
   "execution_count": 12,
   "id": "26e47826-698c-4e18-84d3-98dbd676fb6e",
   "metadata": {},
   "outputs": [
    {
     "data": {
      "text/plain": [
       "course_name    Machine Learning\n",
       "duration                      3\n",
       "Name: 1, dtype: object"
      ]
     },
     "execution_count": 12,
     "metadata": {},
     "output_type": "execute_result"
    }
   ],
   "source": [
    "df.iloc[1]"
   ]
  },
  {
   "cell_type": "markdown",
   "id": "2a02342a-ec05-41d6-9f0c-9286a4fb6207",
   "metadata": {},
   "source": [
    "# Q2. What is the difference between the functions loc and iloc in pandas.DataFrame?"
   ]
  },
  {
   "cell_type": "markdown",
   "id": "d3197584-a1e0-41c1-89a2-40977081a1a0",
   "metadata": {},
   "source": [
    "# Ans :"
   ]
  },
  {
   "cell_type": "markdown",
   "id": "e950ba27-df75-4463-aa55-3b82e462ab4d",
   "metadata": {},
   "source": [
    "In pandas, the loc and iloc functions are used to access and manipulate data in a DataFrame. Here's the difference between the two functions:\n",
    "\n",
    "1. loc : This function is primarily label-based. It is used to access rows and columns in a DataFrame using their labels or index values. When using loc, you provide the labels or index values of the rows and columns you want to access.\n",
    "\n",
    "Syntax: df.loc[row_label, column_label]"
   ]
  },
  {
   "cell_type": "code",
   "execution_count": 13,
   "id": "e9568fd4-00cc-4d32-baca-26350de16bb2",
   "metadata": {},
   "outputs": [
    {
     "data": {
      "text/plain": [
       "6"
      ]
     },
     "execution_count": 13,
     "metadata": {},
     "output_type": "execute_result"
    }
   ],
   "source": [
    "df.loc[2, 'duration']  # Access the value in the row with label 2 and column 'duration'\n"
   ]
  },
  {
   "cell_type": "markdown",
   "id": "678d57ac-cdf8-4066-aef2-3f07872bfb43",
   "metadata": {},
   "source": [
    "2. iloc : This function is primarily integer-based. It is used to access rows and columns in a DataFrame using their integer-based positions or indices. When using iloc, you provide the integer-based positions of the rows and columns you want to access.\n",
    "\n",
    "Syntax: df.iloc[row_index, column_index]"
   ]
  },
  {
   "cell_type": "code",
   "execution_count": 14,
   "id": "8228ce9d-ee32-4b92-98c7-1a8b83429051",
   "metadata": {},
   "outputs": [
    {
     "data": {
      "text/plain": [
       "6"
      ]
     },
     "execution_count": 14,
     "metadata": {},
     "output_type": "execute_result"
    }
   ],
   "source": [
    "df.iloc[2, 1]  # Access the value in the third row (index 2) and second column (index 1)\n"
   ]
  },
  {
   "cell_type": "markdown",
   "id": "30f22331-4f7c-4e08-a875-892c32ae71f1",
   "metadata": {
    "jp-MarkdownHeadingCollapsed": true,
    "tags": []
   },
   "source": [
    "# Q3. Reindex the given dataframe using a variable, reindex = [3,0,1,2] and store it in the variable, new_df then find the output for both new_df.loc[2] and new_df.iloc[2].Did you observe any difference in both the outputs? If so then explain it."
   ]
  },
  {
   "cell_type": "markdown",
   "id": "e4c6b2ed-fa13-4e34-859f-099fd0db5c71",
   "metadata": {},
   "source": [
    "# Ans :"
   ]
  },
  {
   "cell_type": "code",
   "execution_count": 6,
   "id": "128590e2-76e1-42c9-ab1c-7f88b31a56bf",
   "metadata": {},
   "outputs": [
    {
     "data": {
      "text/html": [
       "<div>\n",
       "<style scoped>\n",
       "    .dataframe tbody tr th:only-of-type {\n",
       "        vertical-align: middle;\n",
       "    }\n",
       "\n",
       "    .dataframe tbody tr th {\n",
       "        vertical-align: top;\n",
       "    }\n",
       "\n",
       "    .dataframe thead th {\n",
       "        text-align: right;\n",
       "    }\n",
       "</style>\n",
       "<table border=\"1\" class=\"dataframe\">\n",
       "  <thead>\n",
       "    <tr style=\"text-align: right;\">\n",
       "      <th></th>\n",
       "      <th>course_name</th>\n",
       "      <th>duration</th>\n",
       "    </tr>\n",
       "  </thead>\n",
       "  <tbody>\n",
       "    <tr>\n",
       "      <th>3</th>\n",
       "      <td>Data Engineer</td>\n",
       "      <td>4</td>\n",
       "    </tr>\n",
       "    <tr>\n",
       "      <th>0</th>\n",
       "      <td>Data Science</td>\n",
       "      <td>2</td>\n",
       "    </tr>\n",
       "    <tr>\n",
       "      <th>1</th>\n",
       "      <td>Machine Learning</td>\n",
       "      <td>3</td>\n",
       "    </tr>\n",
       "    <tr>\n",
       "      <th>2</th>\n",
       "      <td>Big Data</td>\n",
       "      <td>6</td>\n",
       "    </tr>\n",
       "  </tbody>\n",
       "</table>\n",
       "</div>"
      ],
      "text/plain": [
       "        course_name  duration\n",
       "3     Data Engineer         4\n",
       "0      Data Science         2\n",
       "1  Machine Learning         3\n",
       "2          Big Data         6"
      ]
     },
     "execution_count": 6,
     "metadata": {},
     "output_type": "execute_result"
    }
   ],
   "source": [
    "new_df=df.reindex([3,0,1,2])\n",
    "new_df"
   ]
  },
  {
   "cell_type": "code",
   "execution_count": 7,
   "id": "3d1a72d4-e250-4e15-aa30-c637c3cbf471",
   "metadata": {},
   "outputs": [
    {
     "data": {
      "text/plain": [
       "course_name    Big Data\n",
       "duration              6\n",
       "Name: 2, dtype: object"
      ]
     },
     "execution_count": 7,
     "metadata": {},
     "output_type": "execute_result"
    }
   ],
   "source": [
    "new_df.loc[2]"
   ]
  },
  {
   "cell_type": "code",
   "execution_count": 8,
   "id": "316632bd-0abf-417e-a35e-10cee1369e87",
   "metadata": {},
   "outputs": [
    {
     "data": {
      "text/plain": [
       "course_name    Machine Learning\n",
       "duration                      3\n",
       "Name: 1, dtype: object"
      ]
     },
     "execution_count": 8,
     "metadata": {},
     "output_type": "execute_result"
    }
   ],
   "source": [
    "new_df.iloc[2]"
   ]
  },
  {
   "cell_type": "markdown",
   "id": "b379bf4c-9dce-4f61-8a7e-3c4600ce619b",
   "metadata": {},
   "source": [
    "## Yes,the outputs for new_df.loc[2] and new_df.iloc[2] are different. new_df.loc[2] returns the row with the label 2, while new_df.iloc[2] returns the row at index position 2 in the new DataFrame new_df.\n",
    "\n",
    "\n",
    "\n"
   ]
  },
  {
   "cell_type": "markdown",
   "id": "a6f997f4-f8a3-4fc6-ac21-4f6a5c77d2b7",
   "metadata": {},
   "source": [
    "# Consider the below code to answer further questions:\n"
   ]
  },
  {
   "cell_type": "code",
   "execution_count": 9,
   "id": "1cfc1c9f-45be-4f06-bc8d-87867468856c",
   "metadata": {},
   "outputs": [
    {
     "data": {
      "text/html": [
       "<div>\n",
       "<style scoped>\n",
       "    .dataframe tbody tr th:only-of-type {\n",
       "        vertical-align: middle;\n",
       "    }\n",
       "\n",
       "    .dataframe tbody tr th {\n",
       "        vertical-align: top;\n",
       "    }\n",
       "\n",
       "    .dataframe thead th {\n",
       "        text-align: right;\n",
       "    }\n",
       "</style>\n",
       "<table border=\"1\" class=\"dataframe\">\n",
       "  <thead>\n",
       "    <tr style=\"text-align: right;\">\n",
       "      <th></th>\n",
       "      <th>column_1</th>\n",
       "      <th>column_2</th>\n",
       "      <th>column_3</th>\n",
       "      <th>column_4</th>\n",
       "      <th>column_5</th>\n",
       "      <th>column_6</th>\n",
       "    </tr>\n",
       "  </thead>\n",
       "  <tbody>\n",
       "    <tr>\n",
       "      <th>1</th>\n",
       "      <td>0.090701</td>\n",
       "      <td>0.574613</td>\n",
       "      <td>0.645699</td>\n",
       "      <td>0.560879</td>\n",
       "      <td>0.799804</td>\n",
       "      <td>0.301206</td>\n",
       "    </tr>\n",
       "    <tr>\n",
       "      <th>2</th>\n",
       "      <td>0.148147</td>\n",
       "      <td>0.979656</td>\n",
       "      <td>0.536124</td>\n",
       "      <td>0.809752</td>\n",
       "      <td>0.155329</td>\n",
       "      <td>0.977680</td>\n",
       "    </tr>\n",
       "    <tr>\n",
       "      <th>3</th>\n",
       "      <td>0.942921</td>\n",
       "      <td>0.810821</td>\n",
       "      <td>0.886651</td>\n",
       "      <td>0.074666</td>\n",
       "      <td>0.695409</td>\n",
       "      <td>0.039330</td>\n",
       "    </tr>\n",
       "    <tr>\n",
       "      <th>4</th>\n",
       "      <td>0.267957</td>\n",
       "      <td>0.314667</td>\n",
       "      <td>0.130113</td>\n",
       "      <td>0.123323</td>\n",
       "      <td>0.723876</td>\n",
       "      <td>0.019210</td>\n",
       "    </tr>\n",
       "    <tr>\n",
       "      <th>5</th>\n",
       "      <td>0.369751</td>\n",
       "      <td>0.833728</td>\n",
       "      <td>0.980887</td>\n",
       "      <td>0.238534</td>\n",
       "      <td>0.891922</td>\n",
       "      <td>0.885982</td>\n",
       "    </tr>\n",
       "    <tr>\n",
       "      <th>6</th>\n",
       "      <td>0.608869</td>\n",
       "      <td>0.436420</td>\n",
       "      <td>0.021544</td>\n",
       "      <td>0.551275</td>\n",
       "      <td>0.685988</td>\n",
       "      <td>0.723130</td>\n",
       "    </tr>\n",
       "  </tbody>\n",
       "</table>\n",
       "</div>"
      ],
      "text/plain": [
       "   column_1  column_2  column_3  column_4  column_5  column_6\n",
       "1  0.090701  0.574613  0.645699  0.560879  0.799804  0.301206\n",
       "2  0.148147  0.979656  0.536124  0.809752  0.155329  0.977680\n",
       "3  0.942921  0.810821  0.886651  0.074666  0.695409  0.039330\n",
       "4  0.267957  0.314667  0.130113  0.123323  0.723876  0.019210\n",
       "5  0.369751  0.833728  0.980887  0.238534  0.891922  0.885982\n",
       "6  0.608869  0.436420  0.021544  0.551275  0.685988  0.723130"
      ]
     },
     "execution_count": 9,
     "metadata": {},
     "output_type": "execute_result"
    }
   ],
   "source": [
    "import pandas as pd\n",
    "import numpy as np\n",
    "columns = ['column_1', 'column_2', 'column_3', 'column_4', 'column_5', 'column_6']\n",
    "indices = [1,2,3,4,5,6]\n",
    "#Creating a dataframe:\n",
    "df1 = pd.DataFrame(np.random.rand(6,6), columns = columns, index = indices)\n",
    "df1"
   ]
  },
  {
   "cell_type": "markdown",
   "id": "c8bc2b59-d41a-4784-a8be-54dfa0e82ff6",
   "metadata": {},
   "source": [
    "# Q4. Write a code to find the following statistical measurements for the above dataframe df1:\n",
    "## (i) mean of each and every column present in the dataframe.\n",
    "## (ii) standard deviation of column, ‘column_2’"
   ]
  },
  {
   "cell_type": "markdown",
   "id": "41723cb3-6d28-4135-b6d6-c57c50c6396b",
   "metadata": {},
   "source": [
    "# Ans :"
   ]
  },
  {
   "cell_type": "code",
   "execution_count": 10,
   "id": "64b7a6fa-789a-4f27-a678-6cfa6040125c",
   "metadata": {},
   "outputs": [
    {
     "name": "stdout",
     "output_type": "stream",
     "text": [
      "Mean of each column:\n",
      "column_1    0.404724\n",
      "column_2    0.658318\n",
      "column_3    0.533503\n",
      "column_4    0.393072\n",
      "column_5    0.658721\n",
      "column_6    0.491090\n",
      "dtype: float64\n",
      "\n",
      "Standard deviation of column 'column_2':\n",
      "0.25753646022889576\n"
     ]
    }
   ],
   "source": [
    "# Mean of each column\n",
    "column_means = df1.mean()\n",
    "print(\"Mean of each column:\")\n",
    "print(column_means)\n",
    "\n",
    "# Standard deviation of column 'column_2'\n",
    "column_2_std = df1['column_2'].std()\n",
    "print(\"\\nStandard deviation of column 'column_2':\")\n",
    "print(column_2_std)\n"
   ]
  },
  {
   "cell_type": "markdown",
   "id": "144f10b8-b21d-4895-ae18-500718d3dac4",
   "metadata": {},
   "source": [
    "# Q5. Replace the data present in the second row of column, ‘column_2’ by a string variable then find the mean of column, column_2. If you are getting errors in executing it then explain why.\n",
    "## [Hint: To replace the data use df1.loc[] and equate this to string data of your choice.]"
   ]
  },
  {
   "cell_type": "markdown",
   "id": "907097ba-ac03-460b-844e-c1243ac03d1c",
   "metadata": {},
   "source": [
    "# Ans :"
   ]
  },
  {
   "cell_type": "code",
   "execution_count": null,
   "id": "80456919-1eed-4184-bce1-be7e913cd980",
   "metadata": {},
   "outputs": [],
   "source": [
    "df1.loc[2, 'column_2'] = 'string_data'\n",
    "mean_column_2 = df1['column_2'].mean()\n",
    "print(mean_column_2)\n"
   ]
  },
  {
   "cell_type": "markdown",
   "id": "9c6ed5eb-b749-4f8e-ab27-25d825cace74",
   "metadata": {},
   "source": [
    "## However, it's important to note that replacing the data in a numerical column with a string variable will likely result in an error when calculating the mean. The mean operation requires numerical values to calculate the average. If a string value is present in the column, it will raise a TypeError indicating that the mean operation is not supported on string values.\n",
    "\n",
    "## So, if we replace the data in the second row of 'column_2' with a string variable, the mean calculation will fail and raise a TypeError. To avoid this error, ensure that the values in the column are numeric before calculating the mean."
   ]
  },
  {
   "cell_type": "markdown",
   "id": "260538c0-a2cc-46fa-85c1-8d756b9a0d49",
   "metadata": {},
   "source": [
    "# Q6. What do you understand about the windows function in pandas and list the types of windows functions?"
   ]
  },
  {
   "cell_type": "markdown",
   "id": "fbecc4f9-9018-49b1-ae45-805cd5c48067",
   "metadata": {},
   "source": [
    "# Ans :"
   ]
  },
  {
   "cell_type": "markdown",
   "id": "a496b31c-d5d1-4dc6-9774-c96ef99a4bb8",
   "metadata": {
    "tags": []
   },
   "source": [
    "## In pandas, a window function is a function that operates on a window of data, which is a set of consecutive rows or columns in a DataFrame. Window functions are used to perform calculations on a subset of data, such as calculating moving averages, rolling standard deviations, and cumulative sums.\n",
    "\n",
    "## In pandas, window functions can be broadly divided into three categories:\n",
    "\n",
    "## Aggregation Functions: These functions aggregate the values within a window and return a single value. Examples include sum(), mean(), median(), min(), max(), std(), var(), count(), etc. These functions calculate statistics on the values within the window.\n",
    "\n",
    "## Transformation Functions: These functions perform calculations on the values within a window but return a modified version of the original values. Examples include rank(), diff(), pct_change(), etc. These functions transform the values within the window based on certain calculations or operations.\n",
    "\n",
    "## Filtering Functions: These functions filter the values within a window based on certain conditions. Examples include shift(), rolling().apply(), etc. These functions allow you to filter the values within the window based on specific criteria or conditions."
   ]
  },
  {
   "cell_type": "markdown",
   "id": "235e0c69-2bc1-474e-bb24-4b647fc6e55a",
   "metadata": {},
   "source": [
    "# Q7. Write a code to print only the current month and year at the time of answering this question.[Hint: Use pandas.datetime function]"
   ]
  },
  {
   "cell_type": "markdown",
   "id": "4a4e3c7d-45d5-4401-9b40-dff84c2eb1c9",
   "metadata": {},
   "source": [
    "# Ans :"
   ]
  },
  {
   "cell_type": "code",
   "execution_count": 15,
   "id": "83370b31-3fd8-425d-9424-f73c1c4b8497",
   "metadata": {},
   "outputs": [
    {
     "name": "stdout",
     "output_type": "stream",
     "text": [
      "Current Month: 6\n",
      "Current Year: 2023\n"
     ]
    },
    {
     "name": "stderr",
     "output_type": "stream",
     "text": [
      "/tmp/ipykernel_95/3303222919.py:3: FutureWarning: The pandas.datetime class is deprecated and will be removed from pandas in a future version. Import from datetime module instead.\n",
      "  current_date = pd.datetime.now()\n"
     ]
    }
   ],
   "source": [
    "import pandas as pd\n",
    "\n",
    "current_date = pd.datetime.now()\n",
    "current_month = current_date.month\n",
    "current_year = current_date.year\n",
    "\n",
    "print(\"Current Month:\", current_month)\n",
    "print(\"Current Year:\", current_year)\n"
   ]
  },
  {
   "cell_type": "markdown",
   "id": "aef74703-0c14-4794-a77f-d25b078cf97d",
   "metadata": {},
   "source": [
    "# Q8. Write a Python program that takes in two dates as input (in the format YYYY-MM-DD) and calculates the difference between them in days, hours, and minutes using Pandas time delta. The program should prompt the user to enter the dates and display the result.\n"
   ]
  },
  {
   "cell_type": "markdown",
   "id": "4b960ac9-ec2e-4007-ba33-a2ed10b8045f",
   "metadata": {},
   "source": [
    "# Ans :"
   ]
  },
  {
   "cell_type": "code",
   "execution_count": 18,
   "id": "d0e6bc0d-0b0d-4e9a-9c23-a76e60a2b689",
   "metadata": {},
   "outputs": [
    {
     "name": "stdin",
     "output_type": "stream",
     "text": [
      "Enter the start date (YYYY-MM-DD):  2021-10-24\n",
      "Enter the end date (YYYY-MM-DD):  2023-07-14\n"
     ]
    },
    {
     "name": "stdout",
     "output_type": "stream",
     "text": [
      "The difference between the two dates is 628 days, 0 hours, and 0 minutes.\n"
     ]
    }
   ],
   "source": [
    "import pandas as pd\n",
    "\n",
    "# Prompt the user to enter the start date\n",
    "start_date = input(\"Enter the start date (YYYY-MM-DD): \")\n",
    "\n",
    "# Prompt the user to enter the end date\n",
    "end_date = input(\"Enter the end date (YYYY-MM-DD): \")\n",
    "\n",
    "# Convert the start and end dates to datetime objects\n",
    "start_date = pd.to_datetime(start_date)\n",
    "end_date = pd.to_datetime(end_date)\n",
    "\n",
    "# Calculate the timedelta between the two dates\n",
    "time_delta = end_date - start_date\n",
    "\n",
    "# Convert the timedelta to days, hours, and minutes\n",
    "days = time_delta.days\n",
    "hours = time_delta.seconds // 3600\n",
    "minutes = (time_delta.seconds // 60) % 60\n",
    "\n",
    "# Print the results\n",
    "print(f\"The difference between the two dates is {days} days, {hours} hours, and {minutes} minutes.\")\n"
   ]
  },
  {
   "cell_type": "markdown",
   "id": "c78d81a6-40dd-4898-bc93-183c7f99e374",
   "metadata": {},
   "source": [
    "# Q9. Write a Python program that reads a CSV file containing categorical data and converts a specified column to a categorical data type. The program should prompt the user to enter the file path, column name, and category order, and then display the sorted data."
   ]
  },
  {
   "cell_type": "markdown",
   "id": "0888597a-0c41-475f-8d64-9dd46237c046",
   "metadata": {},
   "source": [
    "# Ans :"
   ]
  },
  {
   "cell_type": "code",
   "execution_count": 19,
   "id": "cc2fb106-8d9c-4d61-9e49-203fb9c32bf6",
   "metadata": {},
   "outputs": [
    {
     "data": {
      "text/html": [
       "<div>\n",
       "<style scoped>\n",
       "    .dataframe tbody tr th:only-of-type {\n",
       "        vertical-align: middle;\n",
       "    }\n",
       "\n",
       "    .dataframe tbody tr th {\n",
       "        vertical-align: top;\n",
       "    }\n",
       "\n",
       "    .dataframe thead th {\n",
       "        text-align: right;\n",
       "    }\n",
       "</style>\n",
       "<table border=\"1\" class=\"dataframe\">\n",
       "  <thead>\n",
       "    <tr style=\"text-align: right;\">\n",
       "      <th></th>\n",
       "      <th>Name</th>\n",
       "      <th>Age</th>\n",
       "      <th>City</th>\n",
       "    </tr>\n",
       "  </thead>\n",
       "  <tbody>\n",
       "    <tr>\n",
       "      <th>0</th>\n",
       "      <td>John</td>\n",
       "      <td>25</td>\n",
       "      <td>New York</td>\n",
       "    </tr>\n",
       "    <tr>\n",
       "      <th>1</th>\n",
       "      <td>Jane</td>\n",
       "      <td>28</td>\n",
       "      <td>Paris</td>\n",
       "    </tr>\n",
       "    <tr>\n",
       "      <th>2</th>\n",
       "      <td>Mike</td>\n",
       "      <td>30</td>\n",
       "      <td>London</td>\n",
       "    </tr>\n",
       "    <tr>\n",
       "      <th>3</th>\n",
       "      <td>Emily</td>\n",
       "      <td>32</td>\n",
       "      <td>Sydney</td>\n",
       "    </tr>\n",
       "    <tr>\n",
       "      <th>4</th>\n",
       "      <td>David</td>\n",
       "      <td>35</td>\n",
       "      <td>Tokyo</td>\n",
       "    </tr>\n",
       "  </tbody>\n",
       "</table>\n",
       "</div>"
      ],
      "text/plain": [
       "    Name  Age      City\n",
       "0   John   25  New York\n",
       "1   Jane   28     Paris\n",
       "2   Mike   30    London\n",
       "3  Emily   32    Sydney\n",
       "4  David   35     Tokyo"
      ]
     },
     "execution_count": 19,
     "metadata": {},
     "output_type": "execute_result"
    }
   ],
   "source": [
    "pd.read_csv('data.csv')#This is my CSV file"
   ]
  },
  {
   "cell_type": "code",
   "execution_count": 21,
   "id": "e54ee06a-c11f-4ac3-831f-fe1044efedf6",
   "metadata": {},
   "outputs": [
    {
     "name": "stdin",
     "output_type": "stream",
     "text": [
      "Enter the file path:  data.csv\n",
      "Enter the column name:  City\n",
      "Enter the category order (comma-separated):  Paris,Sydney,New York,London,Tokyo\n"
     ]
    },
    {
     "name": "stdout",
     "output_type": "stream",
     "text": [
      "    Name  Age      City\n",
      "1   Jane   28     Paris\n",
      "3  Emily   32    Sydney\n",
      "0   John   25  New York\n",
      "2   Mike   30    London\n",
      "4  David   35     Tokyo\n"
     ]
    }
   ],
   "source": [
    "import pandas as pd\n",
    "\n",
    "# Prompt the user to enter the file path\n",
    "file_path = input(\"Enter the file path: \")\n",
    "\n",
    "# Prompt the user to enter the column name\n",
    "column_name = input(\"Enter the column name: \")\n",
    "\n",
    "# Prompt the user to enter the category order\n",
    "category_order = input(\"Enter the category order (comma-separated): \").split(',')\n",
    "\n",
    "# Read the CSV file into a DataFrame\n",
    "df = pd.read_csv(file_path)\n",
    "\n",
    "# Convert the specified column to categorical data type\n",
    "df[column_name] = pd.Categorical(df[column_name], categories=category_order, ordered=True)\n",
    "\n",
    "# Sort the DataFrame based on the specified column\n",
    "df_sorted = df.sort_values(by=column_name)\n",
    "\n",
    "# Display the sorted data\n",
    "print(df_sorted)\n"
   ]
  },
  {
   "cell_type": "markdown",
   "id": "e60314f2-1eb7-4076-b098-743e0e6a5f34",
   "metadata": {},
   "source": [
    "# Q10. Write a Python program that reads a CSV file containing sales data for different products and visualizes the data using a stacked bar chart to show the sales of each product category over time. The program should prompt the user to enter the file path and display the chart."
   ]
  },
  {
   "cell_type": "markdown",
   "id": "4e77d2fd-e8fb-4957-9693-a692307baba6",
   "metadata": {},
   "source": [
    "# Ans :"
   ]
  },
  {
   "cell_type": "code",
   "execution_count": 6,
   "id": "2943d823-ee4f-45cb-94eb-62da63fb13e4",
   "metadata": {},
   "outputs": [
    {
     "name": "stdout",
     "output_type": "stream",
     "text": [
      "CSV file 'sales_data.csv' created successfully!\n"
     ]
    },
    {
     "data": {
      "text/html": [
       "<div>\n",
       "<style scoped>\n",
       "    .dataframe tbody tr th:only-of-type {\n",
       "        vertical-align: middle;\n",
       "    }\n",
       "\n",
       "    .dataframe tbody tr th {\n",
       "        vertical-align: top;\n",
       "    }\n",
       "\n",
       "    .dataframe thead th {\n",
       "        text-align: right;\n",
       "    }\n",
       "</style>\n",
       "<table border=\"1\" class=\"dataframe\">\n",
       "  <thead>\n",
       "    <tr style=\"text-align: right;\">\n",
       "      <th></th>\n",
       "      <th>Date</th>\n",
       "      <th>Category</th>\n",
       "      <th>Sales</th>\n",
       "    </tr>\n",
       "  </thead>\n",
       "  <tbody>\n",
       "    <tr>\n",
       "      <th>0</th>\n",
       "      <td>2022-01-01</td>\n",
       "      <td>Electronics</td>\n",
       "      <td>500</td>\n",
       "    </tr>\n",
       "    <tr>\n",
       "      <th>1</th>\n",
       "      <td>2022-01-01</td>\n",
       "      <td>Clothing</td>\n",
       "      <td>300</td>\n",
       "    </tr>\n",
       "    <tr>\n",
       "      <th>2</th>\n",
       "      <td>2022-01-01</td>\n",
       "      <td>Books</td>\n",
       "      <td>200</td>\n",
       "    </tr>\n",
       "    <tr>\n",
       "      <th>3</th>\n",
       "      <td>2022-02-01</td>\n",
       "      <td>Electronics</td>\n",
       "      <td>400</td>\n",
       "    </tr>\n",
       "    <tr>\n",
       "      <th>4</th>\n",
       "      <td>2022-02-01</td>\n",
       "      <td>Clothing</td>\n",
       "      <td>200</td>\n",
       "    </tr>\n",
       "    <tr>\n",
       "      <th>5</th>\n",
       "      <td>2022-02-01</td>\n",
       "      <td>Books</td>\n",
       "      <td>150</td>\n",
       "    </tr>\n",
       "  </tbody>\n",
       "</table>\n",
       "</div>"
      ],
      "text/plain": [
       "         Date     Category  Sales\n",
       "0  2022-01-01  Electronics    500\n",
       "1  2022-01-01     Clothing    300\n",
       "2  2022-01-01        Books    200\n",
       "3  2022-02-01  Electronics    400\n",
       "4  2022-02-01     Clothing    200\n",
       "5  2022-02-01        Books    150"
      ]
     },
     "execution_count": 6,
     "metadata": {},
     "output_type": "execute_result"
    }
   ],
   "source": [
    "import csv\n",
    "\n",
    "# Sample data\n",
    "data = [\n",
    "    ['Date', 'Category', 'Sales'],\n",
    "    ['2022-01-01', 'Electronics', '500'],\n",
    "    ['2022-01-01', 'Clothing', '300'],\n",
    "    ['2022-01-01', 'Books', '200'],\n",
    "    ['2022-02-01', 'Electronics', '400'],\n",
    "    ['2022-02-01', 'Clothing', '200'],\n",
    "    ['2022-02-01', 'Books', '150'],\n",
    "    \n",
    "]\n",
    "\n",
    "# File path\n",
    "file_path = 'sales_data.csv'\n",
    "\n",
    "# Writing data to CSV file\n",
    "with open(file_path, 'w', newline='') as csvfile:\n",
    "    writer = csv.writer(csvfile)\n",
    "    writer.writerows(data)\n",
    "\n",
    "print(f\"CSV file '{file_path}' created successfully!\")\n",
    "pd.read_csv('sales_data.csv')"
   ]
  },
  {
   "cell_type": "code",
   "execution_count": 11,
   "id": "e794f972-85d3-44ef-8915-007b855a9445",
   "metadata": {},
   "outputs": [
    {
     "name": "stdin",
     "output_type": "stream",
     "text": [
      "Enter the file path:  sales_data.csv\n"
     ]
    },
    {
     "name": "stdout",
     "output_type": "stream",
     "text": [
      "Category    Books  Clothing  Electronics\n",
      "Date                                    \n",
      "2022-01-01    200       300          500\n",
      "2022-02-01    150       200          400\n"
     ]
    },
    {
     "data": {
      "image/png": "[encoded data removed]",
      "text/plain": [
       "<Figure size 640x480 with 1 Axes>"
      ]
     },
     "metadata": {},
     "output_type": "display_data"
    }
   ],
   "source": [
    "import pandas as pd\n",
    "import matplotlib.pyplot as plt\n",
    "\n",
    "# Prompt the user to enter the file path\n",
    "file_path = input(\"Enter the file path: \")\n",
    "\n",
    "# Read the CSV file into a DataFrame\n",
    "df = pd.read_csv(file_path)\n",
    "\n",
    "# Convert the 'Date' column to datetime format\n",
    "df['Date'] = pd.to_datetime(df['Date'])\n",
    "\n",
    "# Group the data by 'Date' and 'Category' and calculate the total sales\n",
    "sales_by_category = df.groupby(['Date', 'Category'])['Sales'].sum().unstack()\n",
    "print(sales_by_category)\n",
    "# Create a stacked bar chart\n",
    "sales_by_category.plot(kind='bar', stacked=True)\n",
    "\n",
    "# Set labels and title\n",
    "plt.xlabel('Date')\n",
    "plt.ylabel('Sales')\n",
    "plt.title('Sales by Product Category')\n",
    "\n",
    "# Display the chart\n",
    "plt.show()\n"
   ]
  },
  {
   "cell_type": "markdown",
   "id": "a81a8edd-a2cb-40d3-b528-56c25335cb53",
   "metadata": {},
   "source": [
    "In this program, we use the pandas library to read the CSV file into a DataFrame, manipulate the data, and perform groupings. We also use the matplotlib library to create the stacked bar chart.\n",
    "\n",
    "The program prompts the user to enter the file path for the CSV file. It then reads the file into the DataFrame, converts the 'Date' column to datetime format for proper handling, and groups the data by 'Date' and 'Category', calculating the total sales for each category on each date.\n",
    "\n",
    "The stacked bar chart is created using the plot() function with the kind='bar' and stacked=True parameters. We set the labels and title using the appropriate functions from matplotlib. Finally, the chart is displayed using plt.show().\n",
    "\n",
    "Make sure to have the pandas and matplotlib libraries installed in your Python environment before running the program.\n",
    "\n",
    "\n",
    "\n"
   ]
  },
  {
   "cell_type": "markdown",
   "id": "bd5fc471-a1af-4e1a-9477-4a34878b8024",
   "metadata": {},
   "source": [
    "# Q11. You are given a CSV file containing student data that includes the student ID and their test score. Write a Python program that reads the CSV file, calculates the mean, median, and mode of the test scores, and displays the results in a table.\n",
    "## The program should do the following :\n",
    "* Prompt the user to enter the file path of the CSV file containing the student data.\n",
    "* Read the CSV file into a Pandas DataFrame.\n",
    "* Calculate the mean, median, and mode of the test scores using Pandas tools.\n",
    "* Display the mean, median, and mode in a table.\n",
    "\n",
    "## Assume the CSV file contains the following columns:\n",
    "* Student ID: The ID of the student.\n",
    "* Test Score: The score of the student's test.\n",
    "\n",
    "## Example usage of the program:\n",
    "## Enter the file path of the CSV file containing the student data : student_data.csv\n",
    "### +-----------+--------+\n",
    "### | Statistic | Value |\n",
    "### +-----------+--------+\n",
    "### | Mean | 79.6 |\n",
    "### | Median | 82 |\n",
    "### | Mode | 85, 90 |\n",
    "### +-----------+--------+\n",
    "\n",
    "## Assume that the CSV file student_data.csv contains the following data:\n",
    "\n",
    "Student ID,Test Score\n",
    "\n",
    "1,85\n",
    "\n",
    "2,90\n",
    "\n",
    "3,80\n",
    "\n",
    "4,75\n",
    "\n",
    "5,85\n",
    "\n",
    "6,82\n",
    "\n",
    "7,78\n",
    "\n",
    "8,85\n",
    "\n",
    "9,90\n",
    "\n",
    "10,85\n",
    "\n",
    "## The program should calculate the mean, median, and mode of the test scores and display the results in a table."
   ]
  },
  {
   "cell_type": "markdown",
   "id": "d628857a-b2b4-4e15-8a8a-ecd63a79e98b",
   "metadata": {},
   "source": [
    "# Ans :"
   ]
  },
  {
   "cell_type": "code",
   "execution_count": 13,
   "id": "38c57555-3b6e-40c1-ad1c-eeae397bb3aa",
   "metadata": {},
   "outputs": [
    {
     "name": "stdout",
     "output_type": "stream",
     "text": [
      "CSV file 'student_data.csv' created successfully!\n"
     ]
    },
    {
     "data": {
      "text/html": [
       "<div>\n",
       "<style scoped>\n",
       "    .dataframe tbody tr th:only-of-type {\n",
       "        vertical-align: middle;\n",
       "    }\n",
       "\n",
       "    .dataframe tbody tr th {\n",
       "        vertical-align: top;\n",
       "    }\n",
       "\n",
       "    .dataframe thead th {\n",
       "        text-align: right;\n",
       "    }\n",
       "</style>\n",
       "<table border=\"1\" class=\"dataframe\">\n",
       "  <thead>\n",
       "    <tr style=\"text-align: right;\">\n",
       "      <th></th>\n",
       "      <th>Student ID</th>\n",
       "      <th>Test Score</th>\n",
       "    </tr>\n",
       "  </thead>\n",
       "  <tbody>\n",
       "    <tr>\n",
       "      <th>0</th>\n",
       "      <td>1</td>\n",
       "      <td>85</td>\n",
       "    </tr>\n",
       "    <tr>\n",
       "      <th>1</th>\n",
       "      <td>2</td>\n",
       "      <td>90</td>\n",
       "    </tr>\n",
       "    <tr>\n",
       "      <th>2</th>\n",
       "      <td>3</td>\n",
       "      <td>80</td>\n",
       "    </tr>\n",
       "    <tr>\n",
       "      <th>3</th>\n",
       "      <td>4</td>\n",
       "      <td>75</td>\n",
       "    </tr>\n",
       "    <tr>\n",
       "      <th>4</th>\n",
       "      <td>5</td>\n",
       "      <td>85</td>\n",
       "    </tr>\n",
       "    <tr>\n",
       "      <th>5</th>\n",
       "      <td>6</td>\n",
       "      <td>82</td>\n",
       "    </tr>\n",
       "    <tr>\n",
       "      <th>6</th>\n",
       "      <td>7</td>\n",
       "      <td>78</td>\n",
       "    </tr>\n",
       "    <tr>\n",
       "      <th>7</th>\n",
       "      <td>8</td>\n",
       "      <td>85</td>\n",
       "    </tr>\n",
       "    <tr>\n",
       "      <th>8</th>\n",
       "      <td>9</td>\n",
       "      <td>90</td>\n",
       "    </tr>\n",
       "    <tr>\n",
       "      <th>9</th>\n",
       "      <td>10</td>\n",
       "      <td>85</td>\n",
       "    </tr>\n",
       "  </tbody>\n",
       "</table>\n",
       "</div>"
      ],
      "text/plain": [
       "   Student ID  Test Score\n",
       "0           1          85\n",
       "1           2          90\n",
       "2           3          80\n",
       "3           4          75\n",
       "4           5          85\n",
       "5           6          82\n",
       "6           7          78\n",
       "7           8          85\n",
       "8           9          90\n",
       "9          10          85"
      ]
     },
     "execution_count": 13,
     "metadata": {},
     "output_type": "execute_result"
    }
   ],
   "source": [
    "# student_data.csv file with the given data:\n",
    "\n",
    "import csv\n",
    "\n",
    "# Sample data\n",
    "data = [\n",
    "    ['Student ID', 'Test Score'],\n",
    "    [1, 85],\n",
    "    [2, 90],\n",
    "    [3, 80],\n",
    "    [4, 75],\n",
    "    [5, 85],\n",
    "    [6, 82],\n",
    "    [7, 78],\n",
    "    [8, 85],\n",
    "    [9, 90],\n",
    "    [10, 85],\n",
    "]\n",
    "\n",
    "# File path\n",
    "file_path = 'student_data.csv'\n",
    "\n",
    "# Writing data to CSV file\n",
    "with open(file_path, 'w', newline='') as csvfile:\n",
    "    writer = csv.writer(csvfile)\n",
    "    writer.writerows(data)\n",
    "\n",
    "print(f\"CSV file '{file_path}' created successfully!\")\n",
    "pd.read_csv('student_data.csv')"
   ]
  },
  {
   "cell_type": "markdown",
   "id": "32eb9d07-9a83-443f-b854-7d88ea135d95",
   "metadata": {},
   "source": [
    "Here's the code that uses the created student_data.csv file:"
   ]
  },
  {
   "cell_type": "code",
   "execution_count": 14,
   "id": "80212a02-ad72-4420-82f7-db410c71f244",
   "metadata": {},
   "outputs": [
    {
     "name": "stdin",
     "output_type": "stream",
     "text": [
      "Enter the file path of the CSV file containing the student data:  student_data.csv\n"
     ]
    },
    {
     "name": "stdout",
     "output_type": "stream",
     "text": [
      "  Statistic Value\n",
      "0      Mean  83.5\n",
      "1    Median  85.0\n",
      "2      Mode    85\n"
     ]
    }
   ],
   "source": [
    "import pandas as pd\n",
    "\n",
    "# Prompt the user to enter the file path\n",
    "file_path = input(\"Enter the file path of the CSV file containing the student data: \")\n",
    "\n",
    "# Read the CSV file into a DataFrame\n",
    "df = pd.read_csv(file_path)\n",
    "\n",
    "# Calculate mean, median, and mode of test scores\n",
    "mean_score = df['Test Score'].mean()\n",
    "median_score = df['Test Score'].median()\n",
    "mode_scores = df['Test Score'].mode()\n",
    "\n",
    "# Create a table to display the results\n",
    "results = pd.DataFrame({'Statistic': ['Mean', 'Median', 'Mode'],\n",
    "                        'Value': [mean_score, median_score, ', '.join(map(str, mode_scores))]})\n",
    "\n",
    "# Display the table\n",
    "print(results)\n"
   ]
  },
  {
   "cell_type": "code",
   "execution_count": null,
   "id": "b94ada80-d7ee-4852-b2c6-c7e63915d105",
   "metadata": {},
   "outputs": [],
   "source": []
  }
 ],
 "metadata": {
  "kernelspec": {
   "display_name": "Python 3 (ipykernel)",
   "language": "python",
   "name": "python3"
  },
  "language_info": {
   "codemirror_mode": {
    "name": "ipython",
    "version": 3
   },
   "file_extension": ".py",
   "mimetype": "text/x-python",
   "name": "python",
   "nbconvert_exporter": "python",
   "pygments_lexer": "ipython3",
   "version": "3.10.8"
  }
 },
 "nbformat": 4,
 "nbformat_minor": 5
}
